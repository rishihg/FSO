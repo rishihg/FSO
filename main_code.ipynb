{
 "cells": [
  {
   "cell_type": "code",
   "execution_count": 1,
   "metadata": {},
   "outputs": [
    {
     "ename": "SyntaxError",
     "evalue": "invalid syntax (<ipython-input-1-f3dc5f64fa74>, line 10)",
     "output_type": "error",
     "traceback": [
      "\u001b[1;36m  File \u001b[1;32m\"<ipython-input-1-f3dc5f64fa74>\"\u001b[1;36m, line \u001b[1;32m10\u001b[0m\n\u001b[1;33m    ----------------------------------------------------------------------\u001b[0m\n\u001b[1;37m                                                                          ^\u001b[0m\n\u001b[1;31mSyntaxError\u001b[0m\u001b[1;31m:\u001b[0m invalid syntax\n"
     ]
    }
   ],
   "source": [
    "import time\n",
    "import serial\n",
    "import numpy as np\n",
    "from FSO import Mserial\n",
    "\n",
    "m=Mserial('COM8',echo=True)\n",
    "value=[None]*4\n",
    "steps=[None]*4\n",
    "a=['x1','x2','y1','y2']\n",
    "\n",
    "def map_func(Range):\n",
    "    for l in range(len(value)):\n",
    "        step[l]= (2*Range*value[l])/1023 - Range\n",
    "        cmd=''.join(str(e) for e in step)\n",
    "        self.Mserial.sendrecv(cmd)\n",
    "    return step \n",
    "\n",
    "for l in a:\n",
    "    m.set_motor(l,2)\n",
    "    m.set_acc(l,32000)\n",
    "    m.set_vel(l,500)\n",
    "    m.set_home(l,20000)\n",
    "    m.save()\n",
    "    serial.flush()\n",
    "m.set_cont()\n",
    "\n",
    "ser = serial.Serial('COM4', 9600)\n",
    "\n",
    "while True:\n",
    "    value = ser.readline()\n",
    "    serial.flush()\n",
    "    map_func(100)\n",
    "    for l in range(len(value)):\n",
    "        m.move_rel(steps[l],a[l])\n",
    "        serial.flush()\n",
    "    \n",
    "    time.sleep(0.5)\n",
    " ----------------------------------------------------------------------\n",
    " \n",
    " \"\"\"Arduino_code\n",
    " #define sensorPin 2\n",
    " \n",
    "int val1 = 0;\n",
    "int val2 = 0;\n",
    "int val3 = 0;\n",
    "int val4 = 0;\n",
    "\n",
    "void setup()\n",
    "{\n",
    "   Serial.begin(9600);\n",
    "}\n",
    " \n",
    "void loop()\n",
    "{\n",
    "    val1 = analogRead(A0);\n",
    "    val2 = analogRead(A1);\n",
    "    val3 = analogRead(A2);\n",
    "    val4 = analogRead(A3);\n",
    "    \n",
    "    Serial.println(val1 '\\n');\n",
    "    Serial.println(val2 '\\n');\n",
    "    Serial.println(val3 '\\n');\n",
    "    Serial.println(val4 '\\n');\n",
    "    delay (2);\n",
    "}\n",
    "\"\"\""
   ]
  }
 ],
 "metadata": {
  "kernelspec": {
   "display_name": "Python 3",
   "language": "python",
   "name": "python3"
  },
  "language_info": {
   "codemirror_mode": {
    "name": "ipython",
    "version": 3
   },
   "file_extension": ".py",
   "mimetype": "text/x-python",
   "name": "python",
   "nbconvert_exporter": "python",
   "pygments_lexer": "ipython3",
   "version": "3.7.3"
  }
 },
 "nbformat": 4,
 "nbformat_minor": 2
}
